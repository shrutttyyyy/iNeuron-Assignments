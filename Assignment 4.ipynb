{
 "cells": [
  {
   "cell_type": "code",
   "execution_count": 35,
   "metadata": {},
   "outputs": [
    {
     "name": "stdout",
     "output_type": "stream",
     "text": [
      "a=4\n",
      "b=5\n",
      "c=6\n",
      "Area is: 9.921567416492215\n"
     ]
    }
   ],
   "source": [
    "class concepts:\n",
    "    def __init__(self,a,b,c):\n",
    "        self.a=float(a)\n",
    "        self.b=float(b)\n",
    "        self.c=float(c)\n",
    "    \n",
    "class cc(concepts):\n",
    "    def __init__(self,a,b,c):\n",
    "        super().__init__(a,b,c)\n",
    "            \n",
    "    def cal_area(self):\n",
    "        s = (a + b + c) / 2\n",
    "        area = (s*(s-a)*(s-b)*(s-c)) ** 0.5\n",
    "        print(\"Area is:\",area)\n",
    "        \n",
    "a= int(input(\"a=\"))\n",
    "b= int(input(\"b=\"))\n",
    "c= int(input(\"c=\"))\n",
    "x=cc(a,b,c)\n",
    "x.cal_area()"
   ]
  },
  {
   "cell_type": "code",
   "execution_count": 41,
   "metadata": {},
   "outputs": [
    {
     "name": "stdout",
     "output_type": "stream",
     "text": [
      "enter length:3\n",
      "enter any sentence:my name is shruti jakatdar\n",
      "['name', 'shruti', 'jakatdar']\n"
     ]
    }
   ],
   "source": [
    "def filter_long_words(n, sen):\n",
    "    long_words=[]\n",
    "    words=sen.split(\" \")\n",
    "    \n",
    "    for i in words:\n",
    "        if len(i)>n:\n",
    "            long_words.append(i)\n",
    "    return(long_words)\n",
    "\n",
    "n=int(input(\"enter length:\"))\n",
    "sen=input(\"enter any sentence:\")\n",
    "print(filter_long_words(n,sen))"
   ]
  },
  {
   "cell_type": "code",
   "execution_count": 45,
   "metadata": {},
   "outputs": [
    {
     "name": "stdout",
     "output_type": "stream",
     "text": [
      "[3, 2, 5, 3]\n"
     ]
    }
   ],
   "source": [
    "def cal_len(sen):\n",
    "    new_len=[]\n",
    "    \n",
    "    for i in sen:\n",
    "        x=len(i)\n",
    "        new_len.append(x)\n",
    "    return (new_len)\n",
    "lis=['abc','aa','xyzbb','yhs']\n",
    "print(cal_len(lis))"
   ]
  },
  {
   "cell_type": "code",
   "execution_count": 49,
   "metadata": {},
   "outputs": [
    {
     "name": "stdout",
     "output_type": "stream",
     "text": [
      "Enter character:x\n"
     ]
    },
    {
     "data": {
      "text/plain": [
       "False"
      ]
     },
     "execution_count": 49,
     "metadata": {},
     "output_type": "execute_result"
    }
   ],
   "source": [
    "def v_or_c(char):\n",
    "    vowel=['a','e','i','o','u','A','E','I','O','U']\n",
    "    \n",
    "    if char in vowel:\n",
    "        return True\n",
    "    else:\n",
    "        return False\n",
    "n=input(\"Enter character:\")\n",
    "v_or_c(n)"
   ]
  },
  {
   "cell_type": "code",
   "execution_count": null,
   "metadata": {},
   "outputs": [],
   "source": []
  }
 ],
 "metadata": {
  "kernelspec": {
   "display_name": "Python 3",
   "language": "python",
   "name": "python3"
  },
  "language_info": {
   "codemirror_mode": {
    "name": "ipython",
    "version": 3
   },
   "file_extension": ".py",
   "mimetype": "text/x-python",
   "name": "python",
   "nbconvert_exporter": "python",
   "pygments_lexer": "ipython3",
   "version": "3.7.0"
  }
 },
 "nbformat": 4,
 "nbformat_minor": 2
}
